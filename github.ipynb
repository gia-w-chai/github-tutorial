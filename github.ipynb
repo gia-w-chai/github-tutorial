{
 "cells": [
  {
   "cell_type": "markdown",
   "id": "c1f55452",
   "metadata": {},
   "source": [
    "# Git & Github\n",
    "\n",
    "Kommandon:\n",
    "- git add . = Lägger till alla filer för att sparas\n",
    "- git commit -m \"kommentar\" = sparar projektet i en snapshot\n",
    "- git push = lägger till våran snapshot i github "
   ]
  },
  {
   "cell_type": "code",
   "execution_count": null,
   "id": "ff287c8f",
   "metadata": {},
   "outputs": [
    {
     "name": "stdout",
     "output_type": "stream",
     "text": [
      "Hello world!\n"
     ]
    }
   ],
   "source": [
    "print(\"Någonting nytt\")"
   ]
  },
  {
   "cell_type": "markdown",
   "id": "24430d8d",
   "metadata": {},
   "source": [
    "Någonting mer\n"
   ]
  }
 ],
 "metadata": {
  "kernelspec": {
   "display_name": ".venv",
   "language": "python",
   "name": "python3"
  },
  "language_info": {
   "codemirror_mode": {
    "name": "ipython",
    "version": 3
   },
   "file_extension": ".py",
   "mimetype": "text/x-python",
   "name": "python",
   "nbconvert_exporter": "python",
   "pygments_lexer": "ipython3",
   "version": "3.13.7"
  }
 },
 "nbformat": 4,
 "nbformat_minor": 5
}
