{
 "cells": [
  {
   "cell_type": "markdown",
   "id": "c1f55452",
   "metadata": {},
   "source": [
    "# Git & Github\n",
    "\n",
    "Kommandon:\n",
    "- git add . = Lägger till alla filer för att sparas\n",
    "- git commit -m \"kommentar\" = sparar projektet i en snapshot\n",
    "- git push = lägger till våran snapshot i github "
   ]
  }
 ],
 "metadata": {
  "language_info": {
   "name": "python"
  }
 },
 "nbformat": 4,
 "nbformat_minor": 5
}
